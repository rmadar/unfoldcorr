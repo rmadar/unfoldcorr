{
 "cells": [
  {
   "cell_type": "code",
   "execution_count": 1,
   "metadata": {},
   "outputs": [],
   "source": [
    "import numpy as np\n",
    "import matplotlib.pyplot as plt\n",
    "import json\n",
    "from scipy import optimize\n",
    "import umodel as unf\n",
    "\n",
    "import matplotlib as mpl\n",
    "mpl.rcParams['legend.frameon'] = False\n",
    "mpl.rcParams['legend.fontsize'] = 'xx-large'\n",
    "mpl.rcParams['xtick.labelsize'] = 16\n",
    "mpl.rcParams['ytick.labelsize'] = 16\n",
    "mpl.rcParams['axes.titlesize'] = 18\n",
    "mpl.rcParams['axes.labelsize'] = 18\n",
    "mpl.rcParams['lines.linewidth'] = 2.5\n",
    "mpl.rcParams['figure.figsize'] = (10, 7)"
   ]
  },
  {
   "cell_type": "code",
   "execution_count": 3,
   "metadata": {},
   "outputs": [],
   "source": [
    "# Loading data cos(n, -)\n",
    "with open('../data/CosThetaNminus/asimov_spinCorrelation.json', 'r') as read_file:\n",
    "    dm = np.array(json.load(read_file))\n",
    "    \n",
    "with open('../data/CosThetaNminus/resmat_spinCorrelation.json', 'r') as read_file:\n",
    "    rm = np.array(json.load(read_file))\n",
    "    \n",
    "# Loading data cos(n, +)\n",
    "with open('../data/CosThetaNplus/asimov_spinCorrelation.json', 'r') as read_file:\n",
    "    dp = np.array(json.load(read_file))\n",
    "    \n",
    "with open('../data/CosThetaNplus/resmat_spinCorrelation.json', 'r') as read_file:\n",
    "    rp = np.array(json.load(read_file))\n",
    "\n",
    "    \n",
    "# Loading data correlations between the two observables\n",
    "with open('../data/correlation_matrix_CosThetaNplus_CosThetaNminus_bins.json', 'r') as read_file:\n",
    "    corrDict = json.load(read_file)"
   ]
  },
  {
   "cell_type": "code",
   "execution_count": 4,
   "metadata": {},
   "outputs": [],
   "source": [
    "n, p = rm.shape[0], rp.shape[0]\n",
    "corr = np.zeros((n+p, n+p))\n",
    "for i, (iName, line) in enumerate(corrDict.items()):\n",
    "    for j, (jName, c) in enumerate(line.items()):\n",
    "        corr[i, j] = c"
   ]
  },
  {
   "cell_type": "code",
   "execution_count": 5,
   "metadata": {
    "scrolled": false
   },
   "outputs": [
    {
     "data": {
      "image/png": "[encoded data removed]",
      "text/plain": [
       "<Figure size 504x504 with 2 Axes>"
      ]
     },
     "metadata": {
      "needs_background": "light"
     },
     "output_type": "display_data"
    }
   ],
   "source": [
    "plt.matshow(corr*100, cmap='Greys')\n",
    "plt.colorbar();"
   ]
  },
  {
   "cell_type": "code",
   "execution_count": 6,
   "metadata": {},
   "outputs": [],
   "source": [
    "Ds = [dp, dm]\n",
    "Rs = [rp, rm]"
   ]
  },
  {
   "cell_type": "code",
   "execution_count": 8,
   "metadata": {},
   "outputs": [],
   "source": [
    "# With correlation\n",
    "mCorr = unf.model(Ds, Rs, corr)\n",
    "BsCorr, _ = mCorr.unfold()\n",
    "POIsCorr = mCorr.postFitUncerPOIs()"
   ]
  },
  {
   "cell_type": "code",
   "execution_count": 9,
   "metadata": {},
   "outputs": [],
   "source": [
    "# Without correlations\n",
    "m = unf.model(Ds, Rs, corr=np.diag([1]*8))\n",
    "Bs, _ = m.unfold()\n",
    "POIs = m.postFitUncerPOIs()"
   ]
  },
  {
   "cell_type": "code",
   "execution_count": 10,
   "metadata": {},
   "outputs": [
    {
     "name": "stdout",
     "output_type": "stream",
     "text": [
      "[ 4.49861146e-16  2.10668630e-15  1.50490481e-16 -5.99850426e-16]\n",
      "[-6.00128489e-16  7.52049961e-16  3.00898988e-16  7.49953360e-16]\n"
     ]
    }
   ],
   "source": [
    "# Comparing result w/ and w/o corr from direct unfolding (full minimzation, only central values)\n",
    "# --> no differences\n",
    "bpCorr = BsCorr[0]\n",
    "bmCorr = BsCorr[1]\n",
    "bp = Bs[0]\n",
    "bm = Bs[1]\n",
    "print((bpCorr-bp)/bp)\n",
    "print((bmCorr-bm)/bm)"
   ]
  },
  {
   "cell_type": "code",
   "execution_count": 12,
   "metadata": {},
   "outputs": [
    {
     "name": "stdout",
     "output_type": "stream",
     "text": [
      "[ 4.49726093e-16 -6.00420294e-04 -6.00420294e-04 -5.82407685e-02\n",
      " -6.00420294e-04 -6.00420294e-04 -6.00420294e-04 -6.00420294e-04]\n"
     ]
    }
   ],
   "source": [
    "# Comparing results w/ and w/o corr from profile LH\n",
    "# --> differences from ~1% to 20% level!\n",
    "POIsCorr = np.concatenate(POIsCorr)\n",
    "POIs = np.concatenate(POIs)\n",
    "relDiff = (POIsCorr-POIs) / POIs[:, 0, np.newaxis]\n",
    "print( relDiff[:, 0] )"
   ]
  },
  {
   "cell_type": "code",
   "execution_count": 13,
   "metadata": {},
   "outputs": [
    {
     "name": "stdout",
     "output_type": "stream",
     "text": [
      "0.00030021014710291316\n",
      "0.00030021014710301263\n",
      "0.0003002101471029003\n",
      "0.0003002101471030122\n",
      "0.0003002101471029213\n",
      "0.0003002101471030009\n",
      "0.00030021014710294205\n",
      "0.00030021014710291804\n"
     ]
    }
   ],
   "source": [
    "# Comparing results between unfolded and profile, w/o corr\n",
    "# --> no differences\n",
    "for m1, m2 in zip(POIs, np.concatenate([bp, bm])):\n",
    "    print((m1[0] - m2)/m1[0])"
   ]
  },
  {
   "cell_type": "code",
   "execution_count": 14,
   "metadata": {},
   "outputs": [
    {
     "name": "stdout",
     "output_type": "stream",
     "text": [
      "0.00030021014710291305\n",
      "-0.0003003905076599979\n",
      "-0.0003003905076600366\n",
      "-0.06152374880459035\n",
      "-0.00030039050765990726\n",
      "-0.0003003905076599866\n",
      "-0.0003003905076599278\n",
      "-0.00030039050766005374\n"
     ]
    }
   ],
   "source": [
    "# Comparing results between unfolded and profiled, w/ corr\n",
    "# --> large differences (from ~3% to 25%)!\n",
    "for m1, m2 in zip(POIsCorr, np.concatenate([bpCorr, bmCorr])):\n",
    "    print((m1[0] - m2)/m1[0])"
   ]
  },
  {
   "cell_type": "markdown",
   "metadata": {},
   "source": [
    "# WHY ??\n",
    "\n",
    " + check by hand the profile for `bm[1]` bin and compare with the full minimum"
   ]
  },
  {
   "cell_type": "code",
   "execution_count": 24,
   "metadata": {},
   "outputs": [],
   "source": [
    "def f(x, a0, a1, a2, a3):\n",
    "    return a0 + a1*x + a2*x**2 + a3*x**3\n",
    "\n",
    "def plotProfile(i):\n",
    "    val1, nll1 = m.profilePOI(iPOI=i, POImin=0.74e9, POImax=0.85e9, nScan=20)\n",
    "    p1, _ = optimize.curve_fit(f, val1, nll1)\n",
    "    plt.plot(val1, nll1, 'o', color='tab:blue')\n",
    "    v1 = np.linspace(val1.min(), val1.max(), 1000)\n",
    "    n1 = f(v1, *p1)\n",
    "    plt.plot(v1, n1, color='tab:blue')\n",
    "    \n",
    "    val2, nll2 = mCorr.profilePOI(iPOI=i, POImin=0.74e9, POImax=0.85e9, nScan=20)\n",
    "    p2, _ = optimize.curve_fit(f, val2, nll2)\n",
    "    plt.plot(val2, nll2, 'o', color='tab:red')\n",
    "    v2 = np.linspace(val2.min(), val2.max(), 1000)\n",
    "    n2 = f(v2, *p2)\n",
    "    plt.plot(v2, n2, color='tab:red')"
   ]
  },
  {
   "cell_type": "code",
   "execution_count": 25,
   "metadata": {},
   "outputs": [
    {
     "data": {
      "image/png": "[encoded data removed]",
      "text/plain": [
       "<Figure size 720x504 with 1 Axes>"
      ]
     },
     "metadata": {
      "needs_background": "light"
     },
     "output_type": "display_data"
    }
   ],
   "source": [
    "plotProfile(3)"
   ]
  },
  {
   "cell_type": "code",
   "execution_count": null,
   "metadata": {},
   "outputs": [],
   "source": []
  },
  {
   "cell_type": "code",
   "execution_count": null,
   "metadata": {},
   "outputs": [],
   "source": []
  },
  {
   "cell_type": "code",
   "execution_count": null,
   "metadata": {},
   "outputs": [],
   "source": []
  }
 ],
 "metadata": {
  "kernelspec": {
   "display_name": "Python 3",
   "language": "python",
   "name": "python3"
  },
  "language_info": {
   "codemirror_mode": {
    "name": "ipython",
    "version": 3
   },
   "file_extension": ".py",
   "mimetype": "text/x-python",
   "name": "python",
   "nbconvert_exporter": "python",
   "pygments_lexer": "ipython3",
   "version": "3.7.1"
  }
 },
 "nbformat": 4,
 "nbformat_minor": 4
}
