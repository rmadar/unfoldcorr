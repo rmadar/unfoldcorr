{
 "cells": [
  {
   "cell_type": "code",
   "execution_count": 1,
   "metadata": {},
   "outputs": [],
   "source": [
    "import numpy as np\n",
    "import matplotlib.pyplot as plt\n",
    "import json\n",
    "import umodel as unf\n",
    "\n",
    "import matplotlib as mpl\n",
    "mpl.rcParams['legend.frameon'] = False\n",
    "mpl.rcParams['legend.fontsize'] = 'xx-large'\n",
    "mpl.rcParams['xtick.labelsize'] = 16\n",
    "mpl.rcParams['ytick.labelsize'] = 16\n",
    "mpl.rcParams['axes.titlesize'] = 18\n",
    "mpl.rcParams['axes.labelsize'] = 18\n",
    "mpl.rcParams['lines.linewidth'] = 2.5\n",
    "mpl.rcParams['figure.figsize'] = (10, 7)"
   ]
  },
  {
   "cell_type": "code",
   "execution_count": 28,
   "metadata": {},
   "outputs": [],
   "source": [
    "# Loading data cos(n, -)\n",
    "with open('../data/CosThetaNminus/asimov_spinCorrelation.json', 'r') as read_file:\n",
    "    dm = np.array(json.load(read_file))\n",
    "    \n",
    "with open('../data/CosThetaNminus/resmat_spinCorrelation.json', 'r') as read_file:\n",
    "    rm = np.array(json.load(read_file))\n",
    "\n",
    "    \n",
    "# Loading data cos(n, +)\n",
    "with open('../data/CosThetaNplus/asimov_spinCorrelation.json', 'r') as read_file:\n",
    "    dp = np.array(json.load(read_file))\n",
    "    \n",
    "with open('../data/CosThetaNplus/resmat_spinCorrelation.json', 'r') as read_file:\n",
    "    rp = np.array(json.load(read_file))\n",
    "\n",
    "    \n",
    "# Loading data correlations between the two observables\n",
    "with open('../data/correlation_matrix_CosThetaNplus_CosThetaNminus_bins.json', 'r') as read_file:\n",
    "    corrDict = json.load(read_file)"
   ]
  },
  {
   "cell_type": "code",
   "execution_count": 29,
   "metadata": {},
   "outputs": [],
   "source": [
    "n, p = rm.shape[0], rp.shape[0]\n",
    "corr = np.zeros((n+p, n+p))\n",
    "for i, (iName, line) in enumerate(corrDict.items()):\n",
    "    for j, (jName, c) in enumerate(line.items()):\n",
    "        corr[i, j] = c"
   ]
  },
  {
   "cell_type": "code",
   "execution_count": 30,
   "metadata": {
    "scrolled": false
   },
   "outputs": [
    {
     "data": {
      "image/png": "[encoded data removed]",
      "text/plain": [
       "<Figure size 504x504 with 2 Axes>"
      ]
     },
     "metadata": {
      "needs_background": "light"
     },
     "output_type": "display_data"
    }
   ],
   "source": [
    "plt.matshow(corr*100, cmap='Greys')\n",
    "plt.colorbar();"
   ]
  },
  {
   "cell_type": "code",
   "execution_count": 32,
   "metadata": {},
   "outputs": [],
   "source": [
    "# With correlation\n",
    "mCorr = unf.model(d1=dp, d2=dm, r1=rp, r2=rm, corr=corr)\n",
    "bpCorr, bmCorr, _ = mCorr.unfold()\n",
    "POIsCorr = mCorr.postFitUncerPOIs()"
   ]
  },
  {
   "cell_type": "code",
   "execution_count": 33,
   "metadata": {},
   "outputs": [],
   "source": [
    "# Without correlations\n",
    "m = unf.model(d1=dp, d2=dm, r1=rp, r2=rm, corr=np.diag([1]*8))\n",
    "bp, bm, _ = m.unfold()\n",
    "POIs = m.postFitUncerPOIs()"
   ]
  },
  {
   "cell_type": "code",
   "execution_count": 34,
   "metadata": {},
   "outputs": [
    {
     "name": "stdout",
     "output_type": "stream",
     "text": [
      "[ 2.99907431e-16  4.51432779e-16 -3.00980962e-16  0.00000000e+00]\n",
      "[ 1.50032122e-16  3.00819984e-16  4.51348482e-16 -1.49990672e-16]\n"
     ]
    }
   ],
   "source": [
    "# Comparing result w/ and w/o corr from direct unfolding (full minimzation, only central values)\n",
    "# --> no differences\n",
    "print((bpCorr-bp)/bp)\n",
    "print((bmCorr-bm)/bm)"
   ]
  },
  {
   "cell_type": "code",
   "execution_count": 35,
   "metadata": {},
   "outputs": [
    {
     "name": "stdout",
     "output_type": "stream",
     "text": [
      "[-0.03602522 -0.00060042 -0.00060042 -0.03422396 -0.00060042 -0.19573702\n",
      " -0.00060042 -0.00060042]\n"
     ]
    }
   ],
   "source": [
    "# Comparing results w/ and w/o corr from profile LH\n",
    "# --> differences from ~1% to 20% level!\n",
    "relDiff = (POIsCorr-POIs) / POIs[:, 0, np.newaxis]\n",
    "print( relDiff[:, 0] )"
   ]
  },
  {
   "cell_type": "code",
   "execution_count": 36,
   "metadata": {},
   "outputs": [
    {
     "name": "stdout",
     "output_type": "stream",
     "text": [
      "0.00030021014710291316\n",
      "0.0003002101471030125\n",
      "0.0003002101471029002\n",
      "0.00030021014710301225\n",
      "0.0003002101471030713\n",
      "0.0003002101471030011\n",
      "0.00030021014710294194\n",
      "0.00030021014710291804\n"
     ]
    }
   ],
   "source": [
    "# Comparing results between unfolded and profile, w/o corr\n",
    "# --> no differences\n",
    "for m1, m2 in zip(POIs, np.concatenate([bp, bm])):\n",
    "    print((m1[0] - m2)/m1[0])"
   ]
  },
  {
   "cell_type": "code",
   "execution_count": 39,
   "metadata": {},
   "outputs": [
    {
     "name": "stdout",
     "output_type": "stream",
     "text": [
      "-0.03706010588601684\n",
      "-0.0003003905076599983\n",
      "-0.00030039050765988607\n",
      "-0.035125893689773126\n",
      "-0.0003003905076599071\n",
      "-0.24300111982082875\n",
      "-0.00030039050765992765\n",
      "-0.00030039050765990385\n"
     ]
    }
   ],
   "source": [
    "# Comparing results between unfolded and profiled, w/ corr\n",
    "# --> large differences (from ~3% to 25%)!\n",
    "for m1, m2 in zip(POIsCorr, np.concatenate([bpCorr, bmCorr])):\n",
    "    print((m1[0] - m2)/m1[0])"
   ]
  },
  {
   "cell_type": "markdown",
   "metadata": {},
   "source": [
    "# WHY ??\n",
    "\n",
    " + check by hand the profile for `bm[1]` bin and compare with the full minimum"
   ]
  },
  {
   "cell_type": "code",
   "execution_count": null,
   "metadata": {},
   "outputs": [],
   "source": []
  }
 ],
 "metadata": {
  "kernelspec": {
   "display_name": "Python 3",
   "language": "python",
   "name": "python3"
  },
  "language_info": {
   "codemirror_mode": {
    "name": "ipython",
    "version": 3
   },
   "file_extension": ".py",
   "mimetype": "text/x-python",
   "name": "python",
   "nbconvert_exporter": "python",
   "pygments_lexer": "ipython3",
   "version": "3.8.3"
  }
 },
 "nbformat": 4,
 "nbformat_minor": 4
}
